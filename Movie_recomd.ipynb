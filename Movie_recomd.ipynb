{
 "cells": [
  {
   "cell_type": "markdown",
   "id": "aa065d05-629f-4f78-9ba4-51b48f1ee967",
   "metadata": {},
   "source": [
    "## DataSet Maker"
   ]
  },
  {
   "cell_type": "code",
   "execution_count": null,
   "id": "e7722b03-f8b4-4531-b66d-ebda6e0494d3",
   "metadata": {},
   "outputs": [],
   "source": [
    "import pandas as pd\n",
    "import numpy as np\n",
    "\n",
    "# Generate random movie titles\n",
    "movie_titles = [f'Movie {i}' for i in range(1, 21)]\n",
    "\n",
    "# Generate random ratings\n",
    "ratings = np.random.randint(1, 6, size=(20,))\n",
    "\n",
    "# Create a DataFrame for movies\n",
    "movies_df = pd.DataFrame({'movieId': range(1, 21), 'title': movie_titles})\n",
    "\n",
    "# Create a DataFrame for ratings\n",
    "ratings_df = pd.DataFrame({'userId': np.random.randint(1, 100, size=(20,)),\n",
    "                           'movieId': np.random.randint(1, 21, size=(20,)),\n",
    "                           'rating': ratings})\n",
    "\n",
    "# Write DataFrames to CSV files\n",
    "movies_df.to_csv('movies.csv', index=False)\n",
    "ratings_df.to_csv('ratings.csv', index=False)\n",
    "\n",
    "print(\"CSV data files generated successfully.\")\n"
   ]
  }
 ],
 "metadata": {
  "kernelspec": {
   "display_name": "Python 3 (ipykernel)",
   "language": "python",
   "name": "python3"
  },
  "language_info": {
   "codemirror_mode": {
    "name": "ipython",
    "version": 3
   },
   "file_extension": ".py",
   "mimetype": "text/x-python",
   "name": "python",
   "nbconvert_exporter": "python",
   "pygments_lexer": "ipython3",
   "version": "3.12.2"
  }
 },
 "nbformat": 4,
 "nbformat_minor": 5
}
